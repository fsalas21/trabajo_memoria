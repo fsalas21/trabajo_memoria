{
 "cells": [
  {
   "cell_type": "code",
   "execution_count": 11,
   "metadata": {},
   "outputs": [],
   "source": [
    "import pandas as pd\n",
    "import numpy as np"
   ]
  },
  {
   "cell_type": "code",
   "execution_count": 12,
   "metadata": {},
   "outputs": [],
   "source": [
    "csvFilePath = r'encuesta.csv'\n",
    "csv2FilePath = r'mod_encuesta.csv'\n",
    "jsonFilePath = r'encuesta.json'\n",
    "headerList = ['fecha', 'nombre', 'apellido_paterno', 'apellido_materno', 'rut', 'rol_usm', 'campus', 'anno_ingreso_carrera', 'anno_ingreso_universidad', 'anno_retiro_universidad', 'razones', 'SEF', 'V1', 'V2', 'RA1', 'RA2', 'AU1', 'AU2', 'otro_motivo']\n",
    "\n",
    "df = pd.read_csv(csvFilePath)\n",
    "df.to_csv('mod_encuesta.csv', header=headerList, index=False)"
   ]
  },
  {
   "cell_type": "code",
   "execution_count": 13,
   "metadata": {},
   "outputs": [],
   "source": [
    "df2 = pd.read_csv('mod_encuesta.csv')\n",
    "df2['fecha'] = pd.to_datetime(df2['fecha'])\n",
    "df2 = df2.replace(np.NaN, '-')\n",
    "# df2.head()\n",
    "\n",
    "csv_file = pd.DataFrame(df2)\n",
    "csv_file.to_json(jsonFilePath, orient='records', date_format='iso', force_ascii=False, default_handler=None)"
   ]
  }
 ],
 "metadata": {
  "kernelspec": {
   "display_name": "Python 3",
   "language": "python",
   "name": "python3"
  },
  "language_info": {
   "codemirror_mode": {
    "name": "ipython",
    "version": 3
   },
   "file_extension": ".py",
   "mimetype": "text/x-python",
   "name": "python",
   "nbconvert_exporter": "python",
   "pygments_lexer": "ipython3",
   "version": "3.10.6"
  },
  "orig_nbformat": 4,
  "vscode": {
   "interpreter": {
    "hash": "6bfc2bb6259e361ff40aa9803e612ffd4e2034763660c1523d39a9ee73638aaf"
   }
  }
 },
 "nbformat": 4,
 "nbformat_minor": 2
}
